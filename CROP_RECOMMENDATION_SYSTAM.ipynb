{
  "nbformat": 4,
  "nbformat_minor": 0,
  "metadata": {
    "colab": {
      "provenance": [],
      "authorship_tag": "ABX9TyMlwVuwzuQj5teKQgA2u1aF",
      "include_colab_link": true
    },
    "kernelspec": {
      "name": "python3",
      "display_name": "Python 3"
    },
    "language_info": {
      "name": "python"
    }
  },
  "cells": [
    {
      "cell_type": "markdown",
      "metadata": {
        "id": "view-in-github",
        "colab_type": "text"
      },
      "source": [
        "<a href=\"https://colab.research.google.com/github/mabbi-p/Crop-Recommendation-System/blob/main/CROP_RECOMMENDATION_SYSTAM.ipynb\" target=\"_parent\"><img src=\"https://colab.research.google.com/assets/colab-badge.svg\" alt=\"Open In Colab\"/></a>"
      ]
    },
    {
      "cell_type": "code",
      "execution_count": 9,
      "metadata": {
        "colab": {
          "base_uri": "https://localhost:8080/"
        },
        "id": "LoZV5Q5YUv3o",
        "outputId": "61796396-7984-4e86-9663-f39f77172537"
      },
      "outputs": [
        {
          "output_type": "stream",
          "name": "stdout",
          "text": [
            "Recommended Crop: rice\n"
          ]
        },
        {
          "output_type": "stream",
          "name": "stderr",
          "text": [
            "/usr/local/lib/python3.11/dist-packages/sklearn/utils/validation.py:2739: UserWarning: X does not have valid feature names, but StandardScaler was fitted with feature names\n",
            "  warnings.warn(\n"
          ]
        }
      ],
      "source": [
        "import pandas as pd\n",
        "import numpy as np\n",
        "from sklearn.ensemble import RandomForestClassifier\n",
        "from sklearn.preprocessing import StandardScaler\n",
        "from sklearn.metrics import accuracy_score\n",
        "\n",
        "# Expanded dataset with seasonal data and soil type\n",
        "data = {\n",
        "    'N': [90, 80, 40, 70, 60, 85, 50, 30, 45, 55, 88, 62, 78, 20, 15],\n",
        "    'P': [42, 35, 15, 30, 20, 25, 10, 18, 22, 28, 32, 40, 12, 14, 16],\n",
        "    'K': [43, 50, 20, 25, 30, 40, 18, 23, 26, 32, 45, 38, 21, 19, 24],\n",
        "    'temperature': [20, 25, 30, 22, 18, 21, 28, 24, 19, 27, 23, 22, 26, 29, 31],\n",
        "    'humidity': [82, 75, 60, 85, 70, 68, 90, 73, 80, 77, 65, 62, 87, 88, 85],\n",
        "    'ph': [6.5, 7.0, 5.5, 6.0, 7.5, 6.8, 5.7, 6.2, 6.9, 7.1, 6.3, 5.9, 6.6, 6.4, 6.0],\n",
        "    'rainfall': [202, 150, 100, 180, 140, 160, 120, 200, 170, 130, 210, 190, 165, 155, 135],\n",
        "    'season': ['kharif', 'rabi', 'rabi', 'kharif', 'rabi', 'kharif', 'rabi', 'rabi', 'kharif', 'rabi', 'kharif', 'rabi', 'kharif', 'rabi', 'rabi'],\n",
        "    'soil_type': ['loamy', 'clay', 'sandy', 'loamy', 'clay', 'sandy', 'loamy', 'clay', 'sandy', 'loamy', 'clay', 'sandy', 'loamy', 'clay', 'sandy'],\n",
        "    'label': ['rice', 'wheat', 'maize', 'sugarcane', 'barley', 'rice', 'wheat', 'maize', 'sugarcane', 'barley', 'rice', 'wheat', 'maize', 'sugarcane', 'barley']\n",
        "}\n",
        "\n",
        "df = pd.DataFrame(data)\n",
        "\n",
        "# Encode categorical features\n",
        "df['season'] = pd.factorize(df['season'])[0]\n",
        "df['soil_type'] = pd.factorize(df['soil_type'])[0]\n",
        "\n",
        "# Features and target selection\n",
        "X = df.drop('label', axis=1)\n",
        "y = df['label']\n",
        "\n",
        "# Data normalization\n",
        "scaler = StandardScaler()\n",
        "X = scaler.fit_transform(X)\n",
        "\n",
        "# Train the model\n",
        "model = RandomForestClassifier(n_estimators=100, random_state=42)\n",
        "model.fit(X, y)\n",
        "\n",
        "# Crop prediction function\n",
        "def predict_crop(N, P, K, temperature, humidity, ph, rainfall, season, soil_type):\n",
        "    season_encoded = 0 if season == 'kharif' else 1\n",
        "    soil_type_encoded = 0 if soil_type == 'loamy' else 1 if soil_type == 'clay' else 2\n",
        "    data = scaler.transform([[N, P, K, temperature, humidity, ph, rainfall, season_encoded, soil_type_encoded]])\n",
        "    prediction = model.predict(data)[0]\n",
        "    return prediction\n",
        "\n",
        "# Example prediction\n",
        "print(\"Recommended Crop:\", predict_crop(90, 42, 43, 20, 82, 6.5, 202, 'kharif', 'loamy'))\n"
      ]
    }
  ]
}